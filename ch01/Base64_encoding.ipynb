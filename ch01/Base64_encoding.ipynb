{
  "nbformat": 4,
  "nbformat_minor": 0,
  "metadata": {
    "colab": {
      "provenance": [],
      "authorship_tag": "ABX9TyPaWfyi6e9C55xc2popBKJ+",
      "include_colab_link": true
    },
    "kernelspec": {
      "name": "python3",
      "display_name": "Python 3"
    },
    "language_info": {
      "name": "python"
    }
  },
  "cells": [
    {
      "cell_type": "markdown",
      "metadata": {
        "id": "view-in-github",
        "colab_type": "text"
      },
      "source": [
        "<a href=\"https://colab.research.google.com/github/dsaint31x/CE/blob/main/ch01/Base64_encoding.ipynb\" target=\"_parent\"><img src=\"https://colab.research.google.com/assets/colab-badge.svg\" alt=\"Open In Colab\"/></a>"
      ]
    },
    {
      "cell_type": "code",
      "execution_count": 28,
      "metadata": {
        "id": "X7d_pPZEK_nH"
      },
      "outputs": [],
      "source": [
        "import base64"
      ]
    },
    {
      "cell_type": "markdown",
      "source": [
        "# 교과서 예제\n",
        "\n",
        "그림 1-17.\n",
        "\n",
        "`012` (bytes) ⇒ `AAEC` (base64 encoding)"
      ],
      "metadata": {
        "id": "oXo69Z9Ai9br"
      }
    },
    {
      "cell_type": "code",
      "source": [
        "ds_byte = bytes([0,1,2])\n",
        "print(ds_byte)\n",
        "print(len(ds_byte), type(ds_byte))"
      ],
      "metadata": {
        "colab": {
          "base_uri": "https://localhost:8080/"
        },
        "id": "vYEpNPGdLDsZ",
        "outputId": "baf56e05-b2c3-4ca9-a550-da5667cdcafe"
      },
      "execution_count": 33,
      "outputs": [
        {
          "output_type": "stream",
          "name": "stdout",
          "text": [
            "b'\\x00\\x01\\x02'\n",
            "3 <class 'bytes'>\n"
          ]
        }
      ]
    },
    {
      "cell_type": "code",
      "source": [
        "bs_enc = base64.b64encode(ds_byte)\n",
        "print(bs_enc)\n",
        "print(len(bs_enc),type(bs_enc))"
      ],
      "metadata": {
        "colab": {
          "base_uri": "https://localhost:8080/"
        },
        "id": "Hq4pjg2ULNZa",
        "outputId": "4ef45411-24e9-45ed-ba85-548fb3243ed1"
      },
      "execution_count": 32,
      "outputs": [
        {
          "output_type": "stream",
          "name": "stdout",
          "text": [
            "b'AAEC'\n",
            "4 <class 'bytes'>\n"
          ]
        }
      ]
    },
    {
      "cell_type": "markdown",
      "source": [
        "# encoding\n",
        "str (`utf-8`) ⇒ bytes(`utf-8`) ⇒ bytes(`base64`)"
      ],
      "metadata": {
        "id": "2OSZ-VGGim4n"
      }
    },
    {
      "cell_type": "code",
      "source": [
        "import base64\n",
        "\n",
        "str_ko = '일이삼사오일칠팔구십'\n",
        "print(str_ko)\n",
        "print('len of korean chracter:',len(str_ko))\n",
        "utf8_ko = str_ko.encode('utf-8')\n",
        "print('len of utf8_ko:',len(utf8_ko),\"/ type:\",type(utf8_ko))\n",
        "str_base64 = base64.b64encode(utf8_ko)\n",
        "print('len of str_base64:',len(str_base64),\"/ type:\",type(str_base64))\n",
        "print(str_base64)"
      ],
      "metadata": {
        "colab": {
          "base_uri": "https://localhost:8080/"
        },
        "id": "gLzPDPE3LTAI",
        "outputId": "e8c89474-bcf2-4610-f0a5-7d1de57e23bc"
      },
      "execution_count": 38,
      "outputs": [
        {
          "output_type": "stream",
          "name": "stdout",
          "text": [
            "일이삼사오일칠팔구십\n",
            "len of korean chracter: 10\n",
            "len of utf8_ko: 30 / type: <class 'bytes'>\n",
            "len of str_base64: 40 / type: <class 'bytes'>\n",
            "b'7J287J207IK87IKs7Jik7J287Lmg7YyU6rWs7Iut'\n"
          ]
        }
      ]
    },
    {
      "cell_type": "markdown",
      "source": [
        "# decoding!\n",
        "bytes (`base64`) $\\Rightarrow$ str (`utf-8`)"
      ],
      "metadata": {
        "id": "EnkVpIDfiXzc"
      }
    },
    {
      "cell_type": "code",
      "source": [
        "byte_raw = base64.b64decode(str_base64)\n",
        "str_utf8 = byte_raw.decode('utf-8')\n",
        "print('len of str_utf8:',len(str_utf8),\"/ type:\",type(str_utf8))\n",
        "print(str_utf8)"
      ],
      "metadata": {
        "colab": {
          "base_uri": "https://localhost:8080/"
        },
        "id": "Bg-kxdyYX7Cu",
        "outputId": "7cf6aebc-52f7-4cc8-c230-e2cea38bc856"
      },
      "execution_count": 40,
      "outputs": [
        {
          "output_type": "stream",
          "name": "stdout",
          "text": [
            "len of str_utf8: 10 / type: <class 'str'>\n",
            "일이삼사오일칠팔구십\n"
          ]
        }
      ]
    }
  ]
}