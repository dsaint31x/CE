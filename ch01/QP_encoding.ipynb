{
  "nbformat": 4,
  "nbformat_minor": 0,
  "metadata": {
    "colab": {
      "provenance": [],
      "authorship_tag": "ABX9TyMxG2ijDYm+vcHCPM7yNKv5",
      "include_colab_link": true
    },
    "kernelspec": {
      "name": "python3",
      "display_name": "Python 3"
    },
    "language_info": {
      "name": "python"
    }
  },
  "cells": [
    {
      "cell_type": "markdown",
      "metadata": {
        "id": "view-in-github",
        "colab_type": "text"
      },
      "source": [
        "<a href=\"https://colab.research.google.com/github/dsaint31x/CE/blob/main/ch01/QP_encoding.ipynb\" target=\"_parent\"><img src=\"https://colab.research.google.com/assets/colab-badge.svg\" alt=\"Open In Colab\"/></a>"
      ]
    },
    {
      "cell_type": "code",
      "execution_count": 1,
      "metadata": {
        "id": "X7d_pPZEK_nH"
      },
      "outputs": [],
      "source": [
        "import quopri"
      ]
    },
    {
      "cell_type": "code",
      "source": [
        "test = \"가나다라마바사아테스트가나다라마바사아테스트가나다라마바사아테스트가나다라마바사아테스트가나다라마바사아테스트가나다라마바사아테스트\""
      ],
      "metadata": {
        "id": "vYEpNPGdLDsZ"
      },
      "execution_count": 2,
      "outputs": []
    },
    {
      "cell_type": "code",
      "source": [
        "quopri.encodestring(test.encode('utf-8'))"
      ],
      "metadata": {
        "colab": {
          "base_uri": "https://localhost:8080/"
        },
        "id": "Hq4pjg2ULNZa",
        "outputId": "a1caadd9-94a8-49c1-a447-8a2bde5bc228"
      },
      "execution_count": 4,
      "outputs": [
        {
          "output_type": "execute_result",
          "data": {
            "text/plain": [
              "b'=EA=B0=80=EB=82=98=EB=8B=A4=EB=9D=BC=EB=A7=88=EB=B0=94=EC=82=AC=EC=95=84=ED=\\n=85=8C=EC=8A=A4=ED=8A=B8=EA=B0=80=EB=82=98=EB=8B=A4=EB=9D=BC=EB=A7=88=EB=B0=\\n=94=EC=82=AC=EC=95=84=ED=85=8C=EC=8A=A4=ED=8A=B8=EA=B0=80=EB=82=98=EB=8B=A4=\\n=EB=9D=BC=EB=A7=88=EB=B0=94=EC=82=AC=EC=95=84=ED=85=8C=EC=8A=A4=ED=8A=B8=EA=\\n=B0=80=EB=82=98=EB=8B=A4=EB=9D=BC=EB=A7=88=EB=B0=94=EC=82=AC=EC=95=84=ED=85=\\n=8C=EC=8A=A4=ED=8A=B8=EA=B0=80=EB=82=98=EB=8B=A4=EB=9D=BC=EB=A7=88=EB=B0=94=\\n=EC=82=AC=EC=95=84=ED=85=8C=EC=8A=A4=ED=8A=B8=EA=B0=80=EB=82=98=EB=8B=A4=EB=\\n=9D=BC=EB=A7=88=EB=B0=94=EC=82=AC=EC=95=84=ED=85=8C=EC=8A=A4=ED=8A=B8'"
            ]
          },
          "metadata": {},
          "execution_count": 4
        }
      ]
    },
    {
      "cell_type": "code",
      "source": [
        "import quopri\n",
        "\n",
        "str_ko = '일이삼사오일칠팔구십'\n",
        "print(str_ko)\n",
        "print('len of korean chracter:',len(str_ko))\n",
        "utf8_ko = str_ko.encode('utf-8')\n",
        "print('len of utf8_ko:',len(utf8_ko),\"/ type:\",type(utf8_ko))\n",
        "print(quopri.encodestring(utf8_ko))"
      ],
      "metadata": {
        "colab": {
          "base_uri": "https://localhost:8080/"
        },
        "id": "gLzPDPE3LTAI",
        "outputId": "b2d5101e-adfc-4f5b-e95a-ea962470c788"
      },
      "execution_count": 18,
      "outputs": [
        {
          "output_type": "stream",
          "name": "stdout",
          "text": [
            "일이삼사오일칠팔구십\n",
            "len of korean chracter: 10\n",
            "len of utf8_ko: 30 / type: <class 'bytes'>\n",
            "b'=EC=9D=BC=EC=9D=B4=EC=82=BC=EC=82=AC=EC=98=A4=EC=9D=BC=EC=B9=A0=ED=8C=94=EA=\\n=B5=AC=EC=8B=AD'\n"
          ]
        }
      ]
    },
    {
      "cell_type": "code",
      "source": [
        "import quopri\n",
        "\n",
        "test = 'a가b나c다'\n",
        "print('len of test:',len(test))\n",
        "utf8_test = test.encode('utf-8')\n",
        "print('len of utf8_test:',len(utf8_test),\"/ type:\",type(utf8_test))\n",
        "print(quopri.encodestring(test.encode('utf-8')))"
      ],
      "metadata": {
        "colab": {
          "base_uri": "https://localhost:8080/"
        },
        "id": "Bg-kxdyYX7Cu",
        "outputId": "d1fd2509-4b34-43e9-fa9c-6733805a7ac8"
      },
      "execution_count": 14,
      "outputs": [
        {
          "output_type": "stream",
          "name": "stdout",
          "text": [
            "len of test: 6\n",
            "len of utf8_test: 12 / type: <class 'bytes'>\n",
            "b'a=EA=B0=80b=EB=82=98c=EB=8B=A4'\n"
          ]
        }
      ]
    },
    {
      "cell_type": "code",
      "source": [
        "len('a'.encode('utf-8'))"
      ],
      "metadata": {
        "colab": {
          "base_uri": "https://localhost:8080/"
        },
        "id": "INvvP81rZlkp",
        "outputId": "19d9141f-119d-4782-977e-2bea5f8b742b"
      },
      "execution_count": 15,
      "outputs": [
        {
          "output_type": "execute_result",
          "data": {
            "text/plain": [
              "1"
            ]
          },
          "metadata": {},
          "execution_count": 15
        }
      ]
    },
    {
      "cell_type": "code",
      "source": [
        "len('가'.encode('utf-8'))"
      ],
      "metadata": {
        "colab": {
          "base_uri": "https://localhost:8080/"
        },
        "id": "JkfN0UT1afx1",
        "outputId": "c0d829ff-8435-4fc4-ea1e-2adf735c4212"
      },
      "execution_count": 16,
      "outputs": [
        {
          "output_type": "execute_result",
          "data": {
            "text/plain": [
              "3"
            ]
          },
          "metadata": {},
          "execution_count": 16
        }
      ]
    },
    {
      "cell_type": "code",
      "source": [],
      "metadata": {
        "id": "TaSFYthsaiMd"
      },
      "execution_count": null,
      "outputs": []
    }
  ]
}