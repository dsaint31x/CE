{
 "cells": [
  {
   "cell_type": "code",
   "execution_count": 18,
   "metadata": {},
   "outputs": [
    {
     "name": "stdout",
     "output_type": "stream",
     "text": [
      "1.95 µs ± 67.8 ns per loop (mean ± std. dev. of 7 runs, 1,000,000 loops each)\n"
     ]
    }
   ],
   "source": [
    "%%timeit\n",
    "a = 4\n",
    "b = 5\n",
    "ret = []\n",
    "\n",
    "for i in range(10):\n",
    "    x = a + b\n",
    "    ret.append(4*i + x*x)\n"
   ]
  },
  {
   "cell_type": "code",
   "execution_count": 19,
   "metadata": {},
   "outputs": [
    {
     "name": "stdout",
     "output_type": "stream",
     "text": [
      "1.57 µs ± 150 ns per loop (mean ± std. dev. of 7 runs, 1,000,000 loops each)\n"
     ]
    }
   ],
   "source": [
    "%%timeit\n",
    "a = 4\n",
    "b = 5\n",
    "ret = []\n",
    "\n",
    "x = a + b\n",
    "tmp = x*x\n",
    "for i in range(10):\n",
    "    ret.append(4*i + tmp)\n"
   ]
  },
  {
   "cell_type": "code",
   "execution_count": 20,
   "metadata": {},
   "outputs": [
    {
     "name": "stdout",
     "output_type": "stream",
     "text": [
      "1.56 µs ± 53.5 ns per loop (mean ± std. dev. of 7 runs, 1,000,000 loops each)\n"
     ]
    }
   ],
   "source": [
    "%%timeit\n",
    "a = 4\n",
    "b = 5\n",
    "ret = []\n",
    "\n",
    "x = a + b\n",
    "tmp = x*x\n",
    "tmp_v = 0\n",
    "for i in range(10):\n",
    "    ret.append(tmp_v + tmp)\n",
    "    tmp_v += 4"
   ]
  },
  {
   "cell_type": "code",
   "execution_count": null,
   "metadata": {},
   "outputs": [],
   "source": []
  }
 ],
 "metadata": {
  "kernelspec": {
   "display_name": "ce",
   "language": "python",
   "name": "python3"
  },
  "language_info": {
   "codemirror_mode": {
    "name": "ipython",
    "version": 3
   },
   "file_extension": ".py",
   "mimetype": "text/x-python",
   "name": "python",
   "nbconvert_exporter": "python",
   "pygments_lexer": "ipython3",
   "version": "3.10.8"
  },
  "orig_nbformat": 4,
  "vscode": {
   "interpreter": {
    "hash": "fcbf50bb0df43857e5db9001b7bad1b858d12a38bcb94c6b0eda02842a9a5d0d"
   }
  }
 },
 "nbformat": 4,
 "nbformat_minor": 2
}
